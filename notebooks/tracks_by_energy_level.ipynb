{
 "cells": [
  {
   "cell_type": "markdown",
   "metadata": {
    "colab_type": "text",
    "id": "DNNb_-TyOfE4"
   },
   "source": [
    "# Filter artist/genre for mid-level energy songs\n",
    "### For the purpose of working to"
   ]
  },
  {
   "cell_type": "markdown",
   "metadata": {
    "colab_type": "text",
    "id": "Gkcsv6xLOvDa"
   },
   "source": [
    "### Imports and Auth:"
   ]
  },
  {
   "cell_type": "code",
   "execution_count": 1,
   "metadata": {
    "colab": {},
    "colab_type": "code",
    "id": "fBhmAmpxOYir"
   },
   "outputs": [],
   "source": [
    "#!pip install -q spotipy\n",
    "import spotipy\n",
    "from spotipy.oauth2 import SpotifyClientCredentials\n",
    "import spotipy.util as util\n",
    "import numpy as np\n",
    "import pandas as pd\n",
    "import os\n",
    "from math import ceil, floor\n",
    "import seaborn as sns\n",
    "import sys\n",
    "import time\n",
    "import copy\n",
    "from scipy.stats import iqr\n",
    "#from google.colab import files"
   ]
  },
  {
   "cell_type": "code",
   "execution_count": 2,
   "metadata": {
    "colab": {},
    "colab_type": "code",
    "id": "pt9Uj4E4DkjJ"
   },
   "outputs": [],
   "source": [
    "## clustering\n",
    "from sklearn.cluster import SpectralClustering, KMeans\n",
    "from sklearn.preprocessing import MinMaxScaler"
   ]
  },
  {
   "cell_type": "code",
   "execution_count": 4,
   "metadata": {
    "colab": {
     "base_uri": "https://localhost:8080/",
     "height": 298
    },
    "colab_type": "code",
    "id": "BQnrLLLuO3Ds",
    "outputId": "b0751999-d832-4c21-dc76-069d18e16d25"
   },
   "outputs": [],
   "source": [
    "cid =\"2bd837c837174d50ab873c61acf24f68\" \n",
    "secret = \"033bb4a851d54615bf83aaf94239ee06\"\n",
    "username = \"omkwppodx5qi1pph0cwma65zc\"\n",
    "client_credentials_manager = SpotifyClientCredentials(client_id=cid, client_secret=secret) \n",
    "sp = spotipy.Spotify(client_credentials_manager=client_credentials_manager)\n",
    "scope = 'user-library-read playlist-read-private streaming user-modify-playback-state user-read-playback-state'\n",
    "token = util.prompt_for_user_token(username, scope, client_id=cid, client_secret=secret, redirect_uri=\"http://localhost/\")\n",
    "if token:\n",
    "    sp = spotipy.Spotify(auth=token)\n",
    "else:\n",
    "    print(\"Can't get token for\", username)"
   ]
  },
  {
   "cell_type": "markdown",
   "metadata": {
    "colab_type": "text",
    "id": "7ZdHBP_zPTol"
   },
   "source": [
    "### Next Steps:\n",
    "#### Structure:\n",
    "- enter artist or genre = x\n",
    "- get id info for x\n",
    "- get main playlist for x\n",
    "    - eg \"this is [x]\" playlist \n",
    "    - or \"best of [x]\" album\n",
    "- get metrics for all tracks\n",
    "- figure out what constitutes low/mid/high range for energy\n",
    "\n"
   ]
  },
  {
   "cell_type": "markdown",
   "metadata": {
    "colab_type": "text",
    "id": "ApKRWB-5QzLj"
   },
   "source": [
    "#### Artist"
   ]
  },
  {
   "cell_type": "code",
   "execution_count": null,
   "metadata": {
    "colab": {},
    "colab_type": "code",
    "id": "ETZo6BtcPG-T"
   },
   "outputs": [],
   "source": [
    "## artist: -----------\n",
    "raw_name_list = [\"benny goodman\", \"harry james\", \"count basie\", \"artie shaw\", \"lucky millinder\", \"duke ellington\", \"glenn miller\"]\n",
    "artist_name_list = []\n",
    "\n",
    "for name in raw_name_list:\n",
    "    search = sp.search(name, limit=1, type=\"artist\")\n",
    "\n",
    "    in_genres = search[\"artists\"][\"items\"][0][\"genres\"]\n",
    "    artist_name = search[\"artists\"][\"items\"][0][\"name\"]\n",
    "    artist_id = search[\"artists\"][\"items\"][0][\"id\"]\n",
    "\n",
    "    artist_name_list.append(artist_name)"
   ]
  },
  {
   "cell_type": "code",
   "execution_count": null,
   "metadata": {
    "colab": {
     "base_uri": "https://localhost:8080/",
     "height": 139
    },
    "colab_type": "code",
    "id": "yJPWI4FUMHOy",
    "outputId": "2507a370-1553-4d71-9982-ef76d137c9d7"
   },
   "outputs": [
    {
     "name": "stdout",
     "output_type": "stream",
     "text": [
      "['The Essential Benny Goodman']\n",
      "['Essential Collection (Rerecorded)']\n",
      "['The Essential Count Basie']\n",
      "['The Essential Artie Shaw']\n",
      "[]\n",
      "['The Essential Duke Ellington']\n",
      "['The Essential Glenn Miller']\n"
     ]
    }
   ],
   "source": [
    "for name in artist_name_list:\n",
    "    query = \"essential \" + name\n",
    "    srch = sp.search(q=query, limit=1, type=\"album\")\n",
    "    n = len(srch[\"albums\"][\"items\"])\n",
    "    alb_names = [srch[\"albums\"][\"items\"][i][\"name\"] for i in range(n)]\n",
    "    print(alb_names)"
   ]
  },
  {
   "cell_type": "markdown",
   "metadata": {
    "colab_type": "text",
    "id": "PMxaxGEcTix0"
   },
   "source": [
    "#### Get main playlist and album for artist:"
   ]
  },
  {
   "cell_type": "code",
   "execution_count": null,
   "metadata": {
    "colab": {
     "base_uri": "https://localhost:8080/",
     "height": 139
    },
    "colab_type": "code",
    "id": "HuGxQ3CORY9A",
    "outputId": "563335ff-26b7-4596-aff9-8eb5a309531e"
   },
   "outputs": [
    {
     "name": "stdout",
     "output_type": "stream",
     "text": [
      "['This Is Benny Goodman', 'This Is Benny Goodman Quartet', 'This Is Benny Goodman Trio', 'This Is Benny Goodman Sextet']\n",
      "['This Is Harry James', 'This Is Harry James Orchestra']\n",
      "['This Is Count Basie', 'This Is Count Basie Orchestra']\n",
      "['This Is Artie Shaw', 'This Is Artie Shaw Orchestra']\n",
      "['This Is Lucky Millinder']\n",
      "['This Is Duke Ellington', 'This Is Duke Ellington Orchestra']\n",
      "['This Is Glenn Miller', 'This Is Glenn Miller Orchestra']\n"
     ]
    }
   ],
   "source": [
    "## get playlists -------\n",
    "track_names = []\n",
    "track_ids = []\n",
    "track_uris = []\n",
    "for name in artist_name_list:\n",
    "    query = \"this is \" + name\n",
    "    #print(query)\n",
    "    pl_search = sp.search(q=query, limit=10, type=\"playlist\")\n",
    "\n",
    "    n = len(pl_search[\"playlists\"][\"items\"])\n",
    "\n",
    "    pl_names = [pl_search[\"playlists\"][\"items\"][i][\"name\"] for i in range(n)]\n",
    "    pl_ids = [pl_search[\"playlists\"][\"items\"][i][\"id\"] for i in range(n)]\n",
    "    \n",
    "    good_names = [pl for pl in pl_names if pl.lower().find(query.lower()) != -1]\n",
    "    good_idx = [good_names.index(nm) for nm in good_names]\n",
    "    good_ids = [id for id in pl_ids if pl_ids.index(id) in good_idx]\n",
    "    print(good_names)\n",
    "\n",
    "    ## get tracks ----------\n",
    "    n = len(good_ids)\n",
    "    for i in range(n):\n",
    "        pl_tracks = sp.playlist_tracks(good_ids[i])\n",
    "        n_tracks = len(pl_tracks[\"items\"])\n",
    "        t_names = [pl_tracks[\"items\"][j][\"track\"][\"name\"] for j in range(n_tracks)]\n",
    "        t_ids = [pl_tracks[\"items\"][j][\"track\"][\"id\"] for j in range(n_tracks)]\n",
    "        t_uris = [pl_tracks[\"items\"][j][\"track\"][\"uri\"] for j in range(n_tracks)]\n",
    "        track_names.append(t_names)\n",
    "        track_ids.append(t_ids)\n",
    "        track_uris.append(t_uris)\n",
    "\n",
    "## flatten lists\n",
    "track_names = [item for sublist in track_names for item in sublist]\n",
    "track_ids = [item for sublist in track_ids for item in sublist]\n",
    "track_uris = [item for sublist in track_uris for item in sublist]\n",
    "\n",
    "tracks_df = pd.DataFrame({\n",
    "    \"names\" : track_names,\n",
    "    \"ids\" : track_ids,\n",
    "    \"uris\" : track_uris\n",
    "})"
   ]
  },
  {
   "cell_type": "code",
   "execution_count": null,
   "metadata": {
    "colab": {
     "base_uri": "https://localhost:8080/",
     "height": 34
    },
    "colab_type": "code",
    "id": "1n82DjBN_vUb",
    "outputId": "086c01c9-d8ca-43af-fb6e-0c1c802e0dbe"
   },
   "outputs": [
    {
     "data": {
      "text/plain": [
       "'spotify:track:0PJMHv4glk31FYeGq8Hg13'"
      ]
     },
     "execution_count": 46,
     "metadata": {
      "tags": []
     },
     "output_type": "execute_result"
    }
   ],
   "source": [
    "pl_tracks[\"items\"][0][\"track\"][\"uri\"]"
   ]
  },
  {
   "cell_type": "markdown",
   "metadata": {
    "colab_type": "text",
    "id": "CnDuqGXzau6K"
   },
   "source": [
    "### Create attributes df"
   ]
  },
  {
   "cell_type": "code",
   "execution_count": null,
   "metadata": {
    "colab": {
     "base_uri": "https://localhost:8080/",
     "height": 625
    },
    "colab_type": "code",
    "id": "XkGYWIspa2Cp",
    "outputId": "e4e17fcc-5b69-4cb7-c9df-ecf9f9fab9ba"
   },
   "outputs": [
    {
     "name": "stdout",
     "output_type": "stream",
     "text": [
      "0\n",
      "20\n",
      "40\n",
      "60\n",
      "80\n",
      "100\n",
      "120\n",
      "140\n",
      "160\n",
      "180\n",
      "200\n",
      "220\n",
      "240\n",
      "260\n",
      "280\n",
      "300\n",
      "320\n",
      "340\n",
      "360\n",
      "380\n",
      "400\n",
      "420\n",
      "440\n",
      "460\n",
      "480\n",
      "500\n",
      "520\n",
      "540\n",
      "560\n",
      "580\n",
      "600\n",
      "620\n",
      "640\n",
      "660\n",
      "680\n"
     ]
    }
   ],
   "source": [
    "## get attributes and analyses of tracks\n",
    "n_tracks = len(tracks_df)\n",
    "track_50s = floor(n_tracks/50)\n",
    "leftover = n_tracks % 50\n",
    "\n",
    "if n_tracks/50 > 1:\n",
    "    track_features = []\n",
    "    for i in range(track_50s):\n",
    "        slicer = slice(i*50, (i+1)*50)\n",
    "        features = sp.audio_features(track_ids[slicer])\n",
    "        track_features.append(features)\n",
    "    ## get remainder\n",
    "    slicer = slice(n_tracks-leftover, n_tracks)\n",
    "    features = sp.audio_features(track_ids[slicer])\n",
    "    track_features.append(features)\n",
    "    track_features = [item for sublist in track_features for item in sublist]\n",
    "else:\n",
    "    track_features = sp.audio_features(track_ids)\n",
    "\n",
    "track_analyses = []\n",
    "for j in range(n_tracks):\n",
    "    if j % 20 == 0:\n",
    "        print(j)\n",
    "    analysis = sp.audio_analysis(track_ids[j])\n",
    "    track_analyses.append(analysis)\n"
   ]
  },
  {
   "cell_type": "code",
   "execution_count": null,
   "metadata": {
    "colab": {
     "base_uri": "https://localhost:8080/",
     "height": 34
    },
    "colab_type": "code",
    "id": "07szqS8OzJo9",
    "outputId": "2f0610ac-956c-45cc-f70a-5d45318651dd"
   },
   "outputs": [
    {
     "data": {
      "text/plain": [
       "696"
      ]
     },
     "execution_count": 54,
     "metadata": {
      "tags": []
     },
     "output_type": "execute_result"
    }
   ],
   "source": [
    "len(track_features)"
   ]
  },
  {
   "cell_type": "code",
   "execution_count": null,
   "metadata": {
    "colab": {
     "base_uri": "https://localhost:8080/",
     "height": 86
    },
    "colab_type": "code",
    "id": "tMXfKD3pSBiC",
    "outputId": "42165bc7-e1d5-4649-dd2c-f3a9fc514cd6"
   },
   "outputs": [
    {
     "data": {
      "text/plain": [
       "Index(['names', 'ids', 'uris', 'danceability', 'energy', 'key', 'loudness',\n",
       "       'mode', 'speechiness', 'acousticness', 'instrumentalness', 'liveness',\n",
       "       'valence', 'tempo', 'duration_ms', 'time_signature'],\n",
       "      dtype='object')"
      ]
     },
     "execution_count": 90,
     "metadata": {
      "tags": []
     },
     "output_type": "execute_result"
    }
   ],
   "source": [
    "## get attributes\n",
    "ls = list(track_features[0].keys())\n",
    "del ls [11:16]\n",
    "\n",
    "for i in range(len(ls)):\n",
    "    tracks_df[ls[i]] = [track_features[j][ls[i]] for j in range(len(track_features))]\n",
    "tracks_df.columns"
   ]
  },
  {
   "cell_type": "code",
   "execution_count": null,
   "metadata": {
    "colab": {
     "base_uri": "https://localhost:8080/",
     "height": 54
    },
    "colab_type": "code",
    "id": "ejzcpA_i9-2E",
    "outputId": "d71d73e9-8d40-4148-bd5c-ee61ebd49014"
   },
   "outputs": [
    {
     "data": {
      "text/plain": [
       "dict_keys(['num_samples', 'duration', 'sample_md5', 'offset_seconds', 'window_seconds', 'analysis_sample_rate', 'analysis_channels', 'end_of_fade_in', 'start_of_fade_out', 'loudness', 'tempo', 'tempo_confidence', 'time_signature', 'time_signature_confidence', 'key', 'key_confidence', 'mode', 'mode_confidence', 'codestring', 'code_version', 'echoprintstring', 'echoprint_version', 'synchstring', 'synch_version', 'rhythmstring', 'rhythm_version'])"
      ]
     },
     "execution_count": 12,
     "metadata": {
      "tags": []
     },
     "output_type": "execute_result"
    }
   ],
   "source": [
    "track_analyses[10][\"track\"].keys()"
   ]
  },
  {
   "cell_type": "code",
   "execution_count": null,
   "metadata": {
    "colab": {},
    "colab_type": "code",
    "id": "ZCPoe3OIxihJ"
   },
   "outputs": [],
   "source": [
    "## get audio analysis of tracks:\n",
    "seg_lens = [len(track_analyses[i][\"segments\"]) for i in range(len(track_analyses))]\n",
    "\n",
    "timbre_mean = []\n",
    "timbre_max = []\n",
    "timbre_min = []\n",
    "timbre_sd = []\n",
    "timbre_med = []\n",
    "timbre_iqr = []\n",
    "for tr in range(len(track_analyses)):\n",
    "    timbre_ls = [track_analyses[tr][\"segments\"][i][\"timbre\"] for i in range(len(track_analyses[tr][\"segments\"]))]\n",
    "    ## mean\n",
    "    t_mean = np.mean(timbre_ls)\n",
    "    timbre_mean.append(t_mean)\n",
    "    ## max\n",
    "    t_max = np.max(timbre_ls)\n",
    "    timbre_max.append(t_max)\n",
    "    ## min\n",
    "    t_min = np.min(timbre_ls)\n",
    "    timbre_min.append(t_min)\n",
    "    ## std\n",
    "    t_sd = np.std(timbre_ls)\n",
    "    timbre_sd.append(t_sd)\n",
    "    ## median\n",
    "    t_med = np.median(timbre_ls)\n",
    "    timbre_med.append(t_med)\n",
    "    ## iqr\n",
    "    t_q = iqr(timbre_ls)\n",
    "    timbre_iqr.append(t_q)\n",
    "\n"
   ]
  },
  {
   "cell_type": "code",
   "execution_count": null,
   "metadata": {
    "colab": {},
    "colab_type": "code",
    "id": "zcxuC4ay_FYw"
   },
   "outputs": [],
   "source": [
    "stats = [\"mean\", \"max\", \"min\", \"sd\", \"med\", \"iqr\"]\n",
    "for stat in stats:\n",
    "    col_name = \"timbre_\" + stat\n",
    "    tracks_df[col_name] =  eval(col_name)\n",
    "\n"
   ]
  },
  {
   "cell_type": "code",
   "execution_count": null,
   "metadata": {
    "colab": {
     "base_uri": "https://localhost:8080/",
     "height": 279
    },
    "colab_type": "code",
    "id": "RNMJYEmsN2JL",
    "outputId": "8a089d9d-45df-4187-ea8c-cd5feb3d17ac"
   },
   "outputs": [
    {
     "data": {
      "text/html": [
       "<div>\n",
       "<style scoped>\n",
       "    .dataframe tbody tr th:only-of-type {\n",
       "        vertical-align: middle;\n",
       "    }\n",
       "\n",
       "    .dataframe tbody tr th {\n",
       "        vertical-align: top;\n",
       "    }\n",
       "\n",
       "    .dataframe thead th {\n",
       "        text-align: right;\n",
       "    }\n",
       "</style>\n",
       "<table border=\"1\" class=\"dataframe\">\n",
       "  <thead>\n",
       "    <tr style=\"text-align: right;\">\n",
       "      <th></th>\n",
       "      <th>names</th>\n",
       "      <th>ids</th>\n",
       "      <th>uris</th>\n",
       "      <th>danceability</th>\n",
       "      <th>energy</th>\n",
       "      <th>key</th>\n",
       "      <th>loudness</th>\n",
       "      <th>mode</th>\n",
       "      <th>speechiness</th>\n",
       "      <th>acousticness</th>\n",
       "      <th>instrumentalness</th>\n",
       "      <th>liveness</th>\n",
       "      <th>valence</th>\n",
       "      <th>tempo</th>\n",
       "      <th>duration_ms</th>\n",
       "      <th>time_signature</th>\n",
       "      <th>timbre_mean</th>\n",
       "      <th>timbre_max</th>\n",
       "      <th>timbre_min</th>\n",
       "      <th>timbre_sd</th>\n",
       "      <th>timbre_med</th>\n",
       "      <th>timbre_iqr</th>\n",
       "    </tr>\n",
       "  </thead>\n",
       "  <tbody>\n",
       "    <tr>\n",
       "      <th>1</th>\n",
       "      <td>Sing, Sing, Sing</td>\n",
       "      <td>5L8ta4ECl5zeA6bGqY7G38</td>\n",
       "      <td>spotify:track:5L8ta4ECl5zeA6bGqY7G38</td>\n",
       "      <td>0.620</td>\n",
       "      <td>0.670</td>\n",
       "      <td>2</td>\n",
       "      <td>-11.575</td>\n",
       "      <td>0</td>\n",
       "      <td>0.0591</td>\n",
       "      <td>0.853</td>\n",
       "      <td>0.896</td>\n",
       "      <td>0.1560</td>\n",
       "      <td>0.295</td>\n",
       "      <td>113.492</td>\n",
       "      <td>520293</td>\n",
       "      <td>4</td>\n",
       "      <td>-2.095489</td>\n",
       "      <td>221.425</td>\n",
       "      <td>-208.807</td>\n",
       "      <td>41.528420</td>\n",
       "      <td>0.0100</td>\n",
       "      <td>35.55650</td>\n",
       "    </tr>\n",
       "    <tr>\n",
       "      <th>2</th>\n",
       "      <td>Chicago</td>\n",
       "      <td>5TjO0GOOon3R6YOnRFPwzk</td>\n",
       "      <td>spotify:track:5TjO0GOOon3R6YOnRFPwzk</td>\n",
       "      <td>0.595</td>\n",
       "      <td>0.285</td>\n",
       "      <td>8</td>\n",
       "      <td>-11.216</td>\n",
       "      <td>1</td>\n",
       "      <td>0.0501</td>\n",
       "      <td>0.943</td>\n",
       "      <td>0.729</td>\n",
       "      <td>0.1640</td>\n",
       "      <td>0.778</td>\n",
       "      <td>160.532</td>\n",
       "      <td>179840</td>\n",
       "      <td>3</td>\n",
       "      <td>6.867174</td>\n",
       "      <td>412.345</td>\n",
       "      <td>-339.171</td>\n",
       "      <td>46.421048</td>\n",
       "      <td>5.9875</td>\n",
       "      <td>47.94400</td>\n",
       "    </tr>\n",
       "    <tr>\n",
       "      <th>4</th>\n",
       "      <td>Goodbye</td>\n",
       "      <td>33epO6drRAdk6jWlwBkqC2</td>\n",
       "      <td>spotify:track:33epO6drRAdk6jWlwBkqC2</td>\n",
       "      <td>0.248</td>\n",
       "      <td>0.189</td>\n",
       "      <td>3</td>\n",
       "      <td>-13.594</td>\n",
       "      <td>0</td>\n",
       "      <td>0.0331</td>\n",
       "      <td>0.977</td>\n",
       "      <td>0.815</td>\n",
       "      <td>0.1250</td>\n",
       "      <td>0.142</td>\n",
       "      <td>75.662</td>\n",
       "      <td>198400</td>\n",
       "      <td>4</td>\n",
       "      <td>2.522711</td>\n",
       "      <td>179.716</td>\n",
       "      <td>-233.440</td>\n",
       "      <td>39.492342</td>\n",
       "      <td>-0.3735</td>\n",
       "      <td>40.83200</td>\n",
       "    </tr>\n",
       "    <tr>\n",
       "      <th>5</th>\n",
       "      <td>Don't Be That Way</td>\n",
       "      <td>7Bto5shUBaNnD3YDv1rnXv</td>\n",
       "      <td>spotify:track:7Bto5shUBaNnD3YDv1rnXv</td>\n",
       "      <td>0.689</td>\n",
       "      <td>0.267</td>\n",
       "      <td>7</td>\n",
       "      <td>-11.567</td>\n",
       "      <td>0</td>\n",
       "      <td>0.0728</td>\n",
       "      <td>0.870</td>\n",
       "      <td>0.866</td>\n",
       "      <td>0.0766</td>\n",
       "      <td>0.725</td>\n",
       "      <td>162.677</td>\n",
       "      <td>201587</td>\n",
       "      <td>4</td>\n",
       "      <td>10.597970</td>\n",
       "      <td>257.123</td>\n",
       "      <td>-316.683</td>\n",
       "      <td>44.309094</td>\n",
       "      <td>5.4625</td>\n",
       "      <td>47.86800</td>\n",
       "    </tr>\n",
       "    <tr>\n",
       "      <th>7</th>\n",
       "      <td>Christopher Columbus</td>\n",
       "      <td>2gXKmlCm7KIY5I8naTkbdU</td>\n",
       "      <td>spotify:track:2gXKmlCm7KIY5I8naTkbdU</td>\n",
       "      <td>0.621</td>\n",
       "      <td>0.219</td>\n",
       "      <td>10</td>\n",
       "      <td>-13.433</td>\n",
       "      <td>1</td>\n",
       "      <td>0.0749</td>\n",
       "      <td>0.740</td>\n",
       "      <td>0.921</td>\n",
       "      <td>0.1140</td>\n",
       "      <td>0.959</td>\n",
       "      <td>163.829</td>\n",
       "      <td>212213</td>\n",
       "      <td>4</td>\n",
       "      <td>11.608764</td>\n",
       "      <td>342.997</td>\n",
       "      <td>-238.922</td>\n",
       "      <td>45.558567</td>\n",
       "      <td>5.2225</td>\n",
       "      <td>49.52475</td>\n",
       "    </tr>\n",
       "  </tbody>\n",
       "</table>\n",
       "</div>"
      ],
      "text/plain": [
       "                  names                     ids  ... timbre_med  timbre_iqr\n",
       "1      Sing, Sing, Sing  5L8ta4ECl5zeA6bGqY7G38  ...     0.0100    35.55650\n",
       "2               Chicago  5TjO0GOOon3R6YOnRFPwzk  ...     5.9875    47.94400\n",
       "4               Goodbye  33epO6drRAdk6jWlwBkqC2  ...    -0.3735    40.83200\n",
       "5     Don't Be That Way  7Bto5shUBaNnD3YDv1rnXv  ...     5.4625    47.86800\n",
       "7  Christopher Columbus  2gXKmlCm7KIY5I8naTkbdU  ...     5.2225    49.52475\n",
       "\n",
       "[5 rows x 22 columns]"
      ]
     },
     "execution_count": 93,
     "metadata": {
      "tags": []
     },
     "output_type": "execute_result"
    }
   ],
   "source": [
    "tracks_df.drop_duplicates(inplace=True)\n",
    "tracks_df = tracks_df[tracks_df.instrumentalness > 0.5]\n",
    "tracks_df.head()"
   ]
  },
  {
   "cell_type": "markdown",
   "metadata": {
    "colab_type": "text",
    "id": "sjOaJHgnqc-q"
   },
   "source": [
    "#### Initial Analysis:"
   ]
  },
  {
   "cell_type": "code",
   "execution_count": null,
   "metadata": {
    "colab": {
     "base_uri": "https://localhost:8080/",
     "height": 34
    },
    "colab_type": "code",
    "id": "vRN2wlCBoATs",
    "outputId": "9639e4b8-6e64-465c-f26e-7192f139a7a0"
   },
   "outputs": [
    {
     "data": {
      "text/plain": [
       "(274, 21)"
      ]
     },
     "execution_count": 19,
     "metadata": {
      "tags": []
     },
     "output_type": "execute_result"
    }
   ],
   "source": [
    "tracks_df.shape"
   ]
  },
  {
   "cell_type": "code",
   "execution_count": null,
   "metadata": {
    "colab": {},
    "colab_type": "code",
    "id": "GADzCJ98qmly"
   },
   "outputs": [],
   "source": [
    "## correlation plot\n",
    "df = tracks_df.drop(columns=[\"names\", \"ids\", \"uris\"])\n",
    "#sns.pairplot(df, vars=[\"danceability\", \"energy\", \"valence\", \"tempo\"])\n",
    "sns.pairplot(df, vars=[\"speechiness\", \"energy\", \"instrumentalness\", \"tempo\", \"timbre_mean\", \"timbre_sd\", \"timbre_min\", \"timbre_max\"])\n",
    "#sns.pairplot(df, vars=[\"timbre_mean\", \"timbre_max\", \"timbre_min\", \"timbre_sd\", \"timbre_iqr\", \"timbre_med\"])"
   ]
  },
  {
   "cell_type": "markdown",
   "metadata": {
    "colab_type": "text",
    "id": "Q5EDyuorOLD4"
   },
   "source": [
    "#### filtering"
   ]
  },
  {
   "cell_type": "code",
   "execution_count": null,
   "metadata": {
    "colab": {
     "base_uri": "https://localhost:8080/",
     "height": 34
    },
    "colab_type": "code",
    "id": "_v8flANuqrRs",
    "outputId": "ffbab4d4-1209-4191-e84d-4601d594c640"
   },
   "outputs": [
    {
     "data": {
      "text/plain": [
       "[1, 2, 3, 4, 5, 6]"
      ]
     },
     "execution_count": 75,
     "metadata": {
      "tags": []
     },
     "output_type": "execute_result"
    }
   ],
   "source": [
    "b = [4, 5, 6]\n",
    "a = [1, 2, 3] + b\n",
    "\n",
    "a"
   ]
  },
  {
   "cell_type": "code",
   "execution_count": null,
   "metadata": {
    "colab": {},
    "colab_type": "code",
    "id": "ufNHT743qvho"
   },
   "outputs": [],
   "source": [
    "tracks_df[tracks_df.liveness > 0.7]"
   ]
  },
  {
   "cell_type": "markdown",
   "metadata": {
    "colab_type": "text",
    "id": "b1rI0Z8PC-sK"
   },
   "source": [
    "## Clustering"
   ]
  },
  {
   "cell_type": "code",
   "execution_count": null,
   "metadata": {
    "colab": {
     "base_uri": "https://localhost:8080/",
     "height": 104
    },
    "colab_type": "code",
    "id": "9QUvbwzmKpI-",
    "outputId": "6d36c6f0-0a9f-4b85-ad8c-2d921ebdb66a"
   },
   "outputs": [
    {
     "data": {
      "text/plain": [
       "Index(['names', 'ids', 'uris', 'danceability', 'energy', 'key', 'loudness',\n",
       "       'mode', 'speechiness', 'acousticness', 'instrumentalness', 'liveness',\n",
       "       'valence', 'tempo', 'duration_ms', 'time_signature', 'timbre_mean',\n",
       "       'timbre_max', 'timbre_min', 'timbre_sd', 'timbre_med', 'timbre_iqr'],\n",
       "      dtype='object')"
      ]
     },
     "execution_count": 60,
     "metadata": {
      "tags": []
     },
     "output_type": "execute_result"
    }
   ],
   "source": [
    "tracks_df.columns"
   ]
  },
  {
   "cell_type": "code",
   "execution_count": null,
   "metadata": {
    "colab": {
     "base_uri": "https://localhost:8080/",
     "height": 34
    },
    "colab_type": "code",
    "id": "CUmoPBBUDAUV",
    "outputId": "2dce7318-767a-4821-dd61-245f4ca09fae"
   },
   "outputs": [
    {
     "name": "stdout",
     "output_type": "stream",
     "text": [
      "(274, 22) (274, 13)\n"
     ]
    }
   ],
   "source": [
    "rmv_features = [\"speechiness\", \"instrumentalness\", \"mode\", \"loudness\", \"acousticness\", \"liveness\"]\n",
    "X = tracks_df.drop(columns=[\"names\", \"ids\", \"uris\"]+rmv_features).values\n",
    "X = np.array(X)\n",
    "print(tracks_df.shape, X.shape)"
   ]
  },
  {
   "cell_type": "code",
   "execution_count": null,
   "metadata": {
    "colab": {},
    "colab_type": "code",
    "id": "2yH8fgokQ_Rh"
   },
   "outputs": [],
   "source": [
    "X_scaled = MinMaxScaler().fit_transform(X)"
   ]
  },
  {
   "cell_type": "code",
   "execution_count": null,
   "metadata": {
    "colab": {},
    "colab_type": "code",
    "id": "4ESygXZgDwO8"
   },
   "outputs": [],
   "source": [
    "cl = KMeans(n_clusters=3)"
   ]
  },
  {
   "cell_type": "code",
   "execution_count": null,
   "metadata": {
    "colab": {},
    "colab_type": "code",
    "id": "chzgn1GGKW4d"
   },
   "outputs": [],
   "source": [
    "cluster_labels = cl.fit_predict(X_scaled)"
   ]
  },
  {
   "cell_type": "code",
   "execution_count": null,
   "metadata": {
    "colab": {
     "base_uri": "https://localhost:8080/",
     "height": 225
    },
    "colab_type": "code",
    "id": "vqYXM0JsK3zN",
    "outputId": "ba41d060-335a-48f7-acdd-6c76dd95a688"
   },
   "outputs": [
    {
     "data": {
      "text/plain": [
       "1                   Sing, Sing, Sing\n",
       "2                            Chicago\n",
       "4                            Goodbye\n",
       "5                  Don't Be That Way\n",
       "7               Christopher Columbus\n",
       "                   ...              \n",
       "679           What A Wonderful World\n",
       "686       Careless - Remastered 1996\n",
       "687                  Memories Of You\n",
       "689            Call Me Irresponsible\n",
       "691    Tschaikowsky's Piano Concerto\n",
       "Name: names, Length: 274, dtype: object"
      ]
     },
     "execution_count": 98,
     "metadata": {
      "tags": []
     },
     "output_type": "execute_result"
    }
   ],
   "source": [
    "tracks_df.names"
   ]
  },
  {
   "cell_type": "code",
   "execution_count": null,
   "metadata": {
    "colab": {},
    "colab_type": "code",
    "id": "RUnlJxG0ODhv"
   },
   "outputs": [],
   "source": [
    "cluster_df = tracks_df.copy()\n",
    "cluster_df[\"label\"] = cluster_labels"
   ]
  },
  {
   "cell_type": "code",
   "execution_count": null,
   "metadata": {
    "colab": {
     "base_uri": "https://localhost:8080/",
     "height": 104
    },
    "colab_type": "code",
    "id": "bziBowUdOXvv",
    "outputId": "455b0e6d-eef9-412a-8418-3e22af5a20dd"
   },
   "outputs": [
    {
     "data": {
      "text/plain": [
       "label\n",
       "0    0.401548\n",
       "1    0.183499\n",
       "2    0.391134\n",
       "Name: energy, dtype: float64"
      ]
     },
     "execution_count": 100,
     "metadata": {
      "tags": []
     },
     "output_type": "execute_result"
    }
   ],
   "source": [
    "cluster_df.groupby(by=\"label\")[\"energy\"].mean()"
   ]
  },
  {
   "cell_type": "code",
   "execution_count": null,
   "metadata": {
    "colab": {
     "base_uri": "https://localhost:8080/",
     "height": 618
    },
    "colab_type": "code",
    "id": "bz-g7oPzOYsi",
    "outputId": "dc62860a-0fed-40ae-d170-bae5a6e15b65"
   },
   "outputs": [
    {
     "data": {
      "text/html": [
       "<div>\n",
       "<style scoped>\n",
       "    .dataframe tbody tr th:only-of-type {\n",
       "        vertical-align: middle;\n",
       "    }\n",
       "\n",
       "    .dataframe tbody tr th {\n",
       "        vertical-align: top;\n",
       "    }\n",
       "\n",
       "    .dataframe thead th {\n",
       "        text-align: right;\n",
       "    }\n",
       "</style>\n",
       "<table border=\"1\" class=\"dataframe\">\n",
       "  <thead>\n",
       "    <tr style=\"text-align: right;\">\n",
       "      <th></th>\n",
       "      <th>names</th>\n",
       "      <th>ids</th>\n",
       "      <th>uris</th>\n",
       "      <th>danceability</th>\n",
       "      <th>energy</th>\n",
       "      <th>key</th>\n",
       "      <th>loudness</th>\n",
       "      <th>mode</th>\n",
       "      <th>speechiness</th>\n",
       "      <th>acousticness</th>\n",
       "      <th>instrumentalness</th>\n",
       "      <th>liveness</th>\n",
       "      <th>valence</th>\n",
       "      <th>tempo</th>\n",
       "      <th>duration_ms</th>\n",
       "      <th>time_signature</th>\n",
       "      <th>timbre_mean</th>\n",
       "      <th>timbre_max</th>\n",
       "      <th>timbre_min</th>\n",
       "      <th>timbre_sd</th>\n",
       "      <th>timbre_med</th>\n",
       "      <th>timbre_iqr</th>\n",
       "      <th>label</th>\n",
       "    </tr>\n",
       "  </thead>\n",
       "  <tbody>\n",
       "    <tr>\n",
       "      <th>2</th>\n",
       "      <td>Chicago</td>\n",
       "      <td>5TjO0GOOon3R6YOnRFPwzk</td>\n",
       "      <td>spotify:track:5TjO0GOOon3R6YOnRFPwzk</td>\n",
       "      <td>0.595</td>\n",
       "      <td>0.285</td>\n",
       "      <td>8</td>\n",
       "      <td>-11.216</td>\n",
       "      <td>1</td>\n",
       "      <td>0.0501</td>\n",
       "      <td>0.943</td>\n",
       "      <td>0.729</td>\n",
       "      <td>0.1640</td>\n",
       "      <td>0.778</td>\n",
       "      <td>160.532</td>\n",
       "      <td>179840</td>\n",
       "      <td>3</td>\n",
       "      <td>6.867174</td>\n",
       "      <td>412.345</td>\n",
       "      <td>-339.171</td>\n",
       "      <td>46.421048</td>\n",
       "      <td>5.9875</td>\n",
       "      <td>47.94400</td>\n",
       "      <td>0</td>\n",
       "    </tr>\n",
       "    <tr>\n",
       "      <th>5</th>\n",
       "      <td>Don't Be That Way</td>\n",
       "      <td>7Bto5shUBaNnD3YDv1rnXv</td>\n",
       "      <td>spotify:track:7Bto5shUBaNnD3YDv1rnXv</td>\n",
       "      <td>0.689</td>\n",
       "      <td>0.267</td>\n",
       "      <td>7</td>\n",
       "      <td>-11.567</td>\n",
       "      <td>0</td>\n",
       "      <td>0.0728</td>\n",
       "      <td>0.870</td>\n",
       "      <td>0.866</td>\n",
       "      <td>0.0766</td>\n",
       "      <td>0.725</td>\n",
       "      <td>162.677</td>\n",
       "      <td>201587</td>\n",
       "      <td>4</td>\n",
       "      <td>10.597970</td>\n",
       "      <td>257.123</td>\n",
       "      <td>-316.683</td>\n",
       "      <td>44.309094</td>\n",
       "      <td>5.4625</td>\n",
       "      <td>47.86800</td>\n",
       "      <td>0</td>\n",
       "    </tr>\n",
       "    <tr>\n",
       "      <th>7</th>\n",
       "      <td>Christopher Columbus</td>\n",
       "      <td>2gXKmlCm7KIY5I8naTkbdU</td>\n",
       "      <td>spotify:track:2gXKmlCm7KIY5I8naTkbdU</td>\n",
       "      <td>0.621</td>\n",
       "      <td>0.219</td>\n",
       "      <td>10</td>\n",
       "      <td>-13.433</td>\n",
       "      <td>1</td>\n",
       "      <td>0.0749</td>\n",
       "      <td>0.740</td>\n",
       "      <td>0.921</td>\n",
       "      <td>0.1140</td>\n",
       "      <td>0.959</td>\n",
       "      <td>163.829</td>\n",
       "      <td>212213</td>\n",
       "      <td>4</td>\n",
       "      <td>11.608764</td>\n",
       "      <td>342.997</td>\n",
       "      <td>-238.922</td>\n",
       "      <td>45.558567</td>\n",
       "      <td>5.2225</td>\n",
       "      <td>49.52475</td>\n",
       "      <td>0</td>\n",
       "    </tr>\n",
       "    <tr>\n",
       "      <th>14</th>\n",
       "      <td>Let's Dance</td>\n",
       "      <td>6DjOS2PYRPQ8amyhSpdErX</td>\n",
       "      <td>spotify:track:6DjOS2PYRPQ8amyhSpdErX</td>\n",
       "      <td>0.517</td>\n",
       "      <td>0.431</td>\n",
       "      <td>8</td>\n",
       "      <td>-9.537</td>\n",
       "      <td>1</td>\n",
       "      <td>0.0551</td>\n",
       "      <td>0.980</td>\n",
       "      <td>0.856</td>\n",
       "      <td>0.0945</td>\n",
       "      <td>0.892</td>\n",
       "      <td>203.050</td>\n",
       "      <td>152960</td>\n",
       "      <td>4</td>\n",
       "      <td>7.649696</td>\n",
       "      <td>300.992</td>\n",
       "      <td>-380.536</td>\n",
       "      <td>38.908368</td>\n",
       "      <td>0.7000</td>\n",
       "      <td>49.02450</td>\n",
       "      <td>0</td>\n",
       "    </tr>\n",
       "    <tr>\n",
       "      <th>20</th>\n",
       "      <td>Oh, Lady Be Good</td>\n",
       "      <td>1BVXsXFvHHNHnJ4KRFaP6R</td>\n",
       "      <td>spotify:track:1BVXsXFvHHNHnJ4KRFaP6R</td>\n",
       "      <td>0.614</td>\n",
       "      <td>0.306</td>\n",
       "      <td>7</td>\n",
       "      <td>-14.475</td>\n",
       "      <td>1</td>\n",
       "      <td>0.0432</td>\n",
       "      <td>0.943</td>\n",
       "      <td>0.753</td>\n",
       "      <td>0.1340</td>\n",
       "      <td>0.942</td>\n",
       "      <td>176.607</td>\n",
       "      <td>182333</td>\n",
       "      <td>4</td>\n",
       "      <td>10.840481</td>\n",
       "      <td>302.959</td>\n",
       "      <td>-284.139</td>\n",
       "      <td>44.277918</td>\n",
       "      <td>4.2220</td>\n",
       "      <td>50.36725</td>\n",
       "      <td>0</td>\n",
       "    </tr>\n",
       "    <tr>\n",
       "      <th>...</th>\n",
       "      <td>...</td>\n",
       "      <td>...</td>\n",
       "      <td>...</td>\n",
       "      <td>...</td>\n",
       "      <td>...</td>\n",
       "      <td>...</td>\n",
       "      <td>...</td>\n",
       "      <td>...</td>\n",
       "      <td>...</td>\n",
       "      <td>...</td>\n",
       "      <td>...</td>\n",
       "      <td>...</td>\n",
       "      <td>...</td>\n",
       "      <td>...</td>\n",
       "      <td>...</td>\n",
       "      <td>...</td>\n",
       "      <td>...</td>\n",
       "      <td>...</td>\n",
       "      <td>...</td>\n",
       "      <td>...</td>\n",
       "      <td>...</td>\n",
       "      <td>...</td>\n",
       "      <td>...</td>\n",
       "    </tr>\n",
       "    <tr>\n",
       "      <th>634</th>\n",
       "      <td>King Porter Stomp</td>\n",
       "      <td>1ZOj7lwZ6qMPr66CYEw3U4</td>\n",
       "      <td>spotify:track:1ZOj7lwZ6qMPr66CYEw3U4</td>\n",
       "      <td>0.583</td>\n",
       "      <td>0.486</td>\n",
       "      <td>8</td>\n",
       "      <td>-11.412</td>\n",
       "      <td>1</td>\n",
       "      <td>0.0961</td>\n",
       "      <td>0.760</td>\n",
       "      <td>0.630</td>\n",
       "      <td>0.0907</td>\n",
       "      <td>0.759</td>\n",
       "      <td>187.483</td>\n",
       "      <td>213360</td>\n",
       "      <td>4</td>\n",
       "      <td>10.753732</td>\n",
       "      <td>286.033</td>\n",
       "      <td>-373.579</td>\n",
       "      <td>42.044991</td>\n",
       "      <td>5.7075</td>\n",
       "      <td>40.41025</td>\n",
       "      <td>0</td>\n",
       "    </tr>\n",
       "    <tr>\n",
       "      <th>646</th>\n",
       "      <td>In The Mood</td>\n",
       "      <td>0PJMHv4glk31FYeGq8Hg13</td>\n",
       "      <td>spotify:track:0PJMHv4glk31FYeGq8Hg13</td>\n",
       "      <td>0.613</td>\n",
       "      <td>0.394</td>\n",
       "      <td>8</td>\n",
       "      <td>-12.934</td>\n",
       "      <td>1</td>\n",
       "      <td>0.0651</td>\n",
       "      <td>0.661</td>\n",
       "      <td>0.763</td>\n",
       "      <td>0.0620</td>\n",
       "      <td>0.719</td>\n",
       "      <td>164.745</td>\n",
       "      <td>220707</td>\n",
       "      <td>4</td>\n",
       "      <td>13.577284</td>\n",
       "      <td>301.975</td>\n",
       "      <td>-174.445</td>\n",
       "      <td>37.794957</td>\n",
       "      <td>7.3830</td>\n",
       "      <td>44.39450</td>\n",
       "      <td>0</td>\n",
       "    </tr>\n",
       "    <tr>\n",
       "      <th>660</th>\n",
       "      <td>The Jumpin' Jive</td>\n",
       "      <td>1fb1mlR1oVlMt1Z3eeUciv</td>\n",
       "      <td>spotify:track:1fb1mlR1oVlMt1Z3eeUciv</td>\n",
       "      <td>0.514</td>\n",
       "      <td>0.592</td>\n",
       "      <td>9</td>\n",
       "      <td>-12.926</td>\n",
       "      <td>0</td>\n",
       "      <td>0.0522</td>\n",
       "      <td>0.947</td>\n",
       "      <td>0.623</td>\n",
       "      <td>0.0895</td>\n",
       "      <td>0.812</td>\n",
       "      <td>193.977</td>\n",
       "      <td>153160</td>\n",
       "      <td>4</td>\n",
       "      <td>8.529574</td>\n",
       "      <td>281.233</td>\n",
       "      <td>-247.785</td>\n",
       "      <td>35.304159</td>\n",
       "      <td>4.4565</td>\n",
       "      <td>46.60700</td>\n",
       "      <td>0</td>\n",
       "    </tr>\n",
       "    <tr>\n",
       "      <th>667</th>\n",
       "      <td>Bugle Call Rag</td>\n",
       "      <td>3QoVVKQCvq5chlJD40v7Ej</td>\n",
       "      <td>spotify:track:3QoVVKQCvq5chlJD40v7Ej</td>\n",
       "      <td>0.439</td>\n",
       "      <td>0.593</td>\n",
       "      <td>10</td>\n",
       "      <td>-10.012</td>\n",
       "      <td>1</td>\n",
       "      <td>0.0509</td>\n",
       "      <td>0.812</td>\n",
       "      <td>0.680</td>\n",
       "      <td>0.0805</td>\n",
       "      <td>0.806</td>\n",
       "      <td>122.209</td>\n",
       "      <td>155293</td>\n",
       "      <td>4</td>\n",
       "      <td>8.861539</td>\n",
       "      <td>207.365</td>\n",
       "      <td>-164.732</td>\n",
       "      <td>36.035983</td>\n",
       "      <td>5.9925</td>\n",
       "      <td>44.77875</td>\n",
       "      <td>0</td>\n",
       "    </tr>\n",
       "    <tr>\n",
       "      <th>678</th>\n",
       "      <td>Anchors Away</td>\n",
       "      <td>2htSqSXagORhZJqnvyIyD3</td>\n",
       "      <td>spotify:track:2htSqSXagORhZJqnvyIyD3</td>\n",
       "      <td>0.453</td>\n",
       "      <td>0.722</td>\n",
       "      <td>5</td>\n",
       "      <td>-10.315</td>\n",
       "      <td>0</td>\n",
       "      <td>0.2320</td>\n",
       "      <td>0.311</td>\n",
       "      <td>0.902</td>\n",
       "      <td>0.1040</td>\n",
       "      <td>0.539</td>\n",
       "      <td>133.488</td>\n",
       "      <td>120240</td>\n",
       "      <td>4</td>\n",
       "      <td>2.592514</td>\n",
       "      <td>403.454</td>\n",
       "      <td>-162.154</td>\n",
       "      <td>36.255931</td>\n",
       "      <td>1.8435</td>\n",
       "      <td>35.22700</td>\n",
       "      <td>0</td>\n",
       "    </tr>\n",
       "  </tbody>\n",
       "</table>\n",
       "<p>98 rows × 23 columns</p>\n",
       "</div>"
      ],
      "text/plain": [
       "                    names                     ids  ... timbre_iqr  label\n",
       "2                 Chicago  5TjO0GOOon3R6YOnRFPwzk  ...   47.94400      0\n",
       "5       Don't Be That Way  7Bto5shUBaNnD3YDv1rnXv  ...   47.86800      0\n",
       "7    Christopher Columbus  2gXKmlCm7KIY5I8naTkbdU  ...   49.52475      0\n",
       "14            Let's Dance  6DjOS2PYRPQ8amyhSpdErX  ...   49.02450      0\n",
       "20       Oh, Lady Be Good  1BVXsXFvHHNHnJ4KRFaP6R  ...   50.36725      0\n",
       "..                    ...                     ...  ...        ...    ...\n",
       "634     King Porter Stomp  1ZOj7lwZ6qMPr66CYEw3U4  ...   40.41025      0\n",
       "646           In The Mood  0PJMHv4glk31FYeGq8Hg13  ...   44.39450      0\n",
       "660      The Jumpin' Jive  1fb1mlR1oVlMt1Z3eeUciv  ...   46.60700      0\n",
       "667        Bugle Call Rag  3QoVVKQCvq5chlJD40v7Ej  ...   44.77875      0\n",
       "678          Anchors Away  2htSqSXagORhZJqnvyIyD3  ...   35.22700      0\n",
       "\n",
       "[98 rows x 23 columns]"
      ]
     },
     "execution_count": 101,
     "metadata": {
      "tags": []
     },
     "output_type": "execute_result"
    }
   ],
   "source": [
    "cluster_df[cluster_df.label == 0]"
   ]
  },
  {
   "cell_type": "code",
   "execution_count": null,
   "metadata": {
    "colab": {},
    "colab_type": "code",
    "id": "kQ9VERnkO9Ax"
   },
   "outputs": [],
   "source": []
  },
  {
   "cell_type": "markdown",
   "metadata": {
    "colab_type": "text",
    "id": "BpPdd_3qP7_P"
   },
   "source": [
    "## playback for testing"
   ]
  },
  {
   "cell_type": "code",
   "execution_count": 12,
   "metadata": {},
   "outputs": [],
   "source": [
    "cluster_df = pd.read_csv(\"testing_df.csv\")"
   ]
  },
  {
   "cell_type": "code",
   "execution_count": 13,
   "metadata": {
    "colab": {},
    "colab_type": "code",
    "id": "KsCdSi4HP9lP"
   },
   "outputs": [],
   "source": [
    "uris = cluster_df[cluster_df.label == 0][\"uris\"].values"
   ]
  },
  {
   "cell_type": "code",
   "execution_count": 14,
   "metadata": {
    "colab": {},
    "colab_type": "code",
    "id": "zebMscWzT5Ij"
   },
   "outputs": [],
   "source": [
    "sp.start_playback(uris=list(uris))"
   ]
  },
  {
   "cell_type": "code",
   "execution_count": null,
   "metadata": {
    "colab": {},
    "colab_type": "code",
    "id": "R1ndq-19T5q_"
   },
   "outputs": [],
   "source": [
    "sp.next_track()"
   ]
  },
  {
   "cell_type": "code",
   "execution_count": null,
   "metadata": {
    "colab": {},
    "colab_type": "code",
    "id": "D4QB61g4VVPE"
   },
   "outputs": [],
   "source": [
    "current_track = sp.current_playback()[\"item\"]"
   ]
  },
  {
   "cell_type": "code",
   "execution_count": null,
   "metadata": {
    "colab": {
     "base_uri": "https://localhost:8080/",
     "height": 34
    },
    "colab_type": "code",
    "id": "VatiP99mVcn9",
    "outputId": "75f73c39-6c0f-48b1-adf3-4ca642052473"
   },
   "outputs": [
    {
     "name": "stdout",
     "output_type": "stream",
     "text": [
      "Runnin' Wild spotify:track:3f5gk0zaG14vEUkr3EymUI 3f5gk0zaG14vEUkr3EymUI\n"
     ]
    }
   ],
   "source": [
    "print(current_track[\"name\"], current_track[\"uri\"], current_track[\"id\"])"
   ]
  },
  {
   "cell_type": "code",
   "execution_count": null,
   "metadata": {
    "colab": {},
    "colab_type": "code",
    "id": "YOvt1HA6XCDJ"
   },
   "outputs": [],
   "source": [
    "testing_df = cluster_df.copy()\n",
    "testing_df[\"good_cluster\"] = \"\"\n",
    "testing_df[\"energy_level\"] = \"\""
   ]
  },
  {
   "cell_type": "code",
   "execution_count": null,
   "metadata": {
    "colab": {
     "base_uri": "https://localhost:8080/",
     "height": 34
    },
    "colab_type": "code",
    "id": "-SkheTF9YeEq",
    "outputId": "ab0dfd0e-3321-4c6d-a217-19d4f5215fd1"
   },
   "outputs": [
    {
     "data": {
      "text/plain": [
       "\"Don't Be That Way\""
      ]
     },
     "execution_count": 120,
     "metadata": {
      "tags": []
     },
     "output_type": "execute_result"
    }
   ],
   "source": [
    "track_uri = \"spotify:track:7Bto5shUBaNnD3YDv1rnXv\"\n",
    "row_index = testing_df.index[testing_df.uris == track_uri]\n",
    "testing_df.at[row_index.values[0], \"names\"]\n"
   ]
  },
  {
   "cell_type": "code",
   "execution_count": null,
   "metadata": {
    "colab": {},
    "colab_type": "code",
    "id": "HDEaFIONVpsK"
   },
   "outputs": [],
   "source": [
    "def label_track(energy, good_cluster=0):\n",
    "    current_track = sp.current_playback()[\"item\"]\n",
    "    print(current_track[\"name\"])\n",
    "    track_id = current_track[\"id\"]\n",
    "    track_uri = current_track[\"uri\"]\n",
    "    row_index = testing_df.index[testing_df.uris == track_uri].values[0]\n",
    "    testing_df.at[row_index, \"good_cluster\"] = good_cluster\n",
    "    testing_df.at[row_index, \"energy_level\"] = energy"
   ]
  },
  {
   "cell_type": "code",
   "execution_count": null,
   "metadata": {
    "colab": {
     "base_uri": "https://localhost:8080/",
     "height": 34
    },
    "colab_type": "code",
    "id": "_Zc-PF99b26N",
    "outputId": "8e792511-836c-4b39-cd08-ca083a353bae"
   },
   "outputs": [
    {
     "data": {
      "text/plain": [
       "'Carnival'"
      ]
     },
     "execution_count": 291,
     "metadata": {
      "tags": []
     },
     "output_type": "execute_result"
    }
   ],
   "source": [
    "current_track = sp.current_playback()[\"item\"]\n",
    "current_track[\"name\"]"
   ]
  },
  {
   "cell_type": "code",
   "execution_count": null,
   "metadata": {
    "colab": {},
    "colab_type": "code",
    "id": "XQ2TntL2aXE7"
   },
   "outputs": [],
   "source": [
    "c = 1"
   ]
  },
  {
   "cell_type": "code",
   "execution_count": null,
   "metadata": {
    "colab": {},
    "colab_type": "code",
    "id": "0bUctA0dacl0"
   },
   "outputs": [],
   "source": [
    "e = 1"
   ]
  },
  {
   "cell_type": "code",
   "execution_count": null,
   "metadata": {
    "colab": {
     "base_uri": "https://localhost:8080/",
     "height": 34
    },
    "colab_type": "code",
    "id": "5lSEXesMalAb",
    "outputId": "86fb854f-d90f-43b3-ed55-26b524b5b692"
   },
   "outputs": [
    {
     "name": "stdout",
     "output_type": "stream",
     "text": [
      "Carnival\n"
     ]
    }
   ],
   "source": [
    "label_track(energy=e, good_cluster=c)"
   ]
  },
  {
   "cell_type": "code",
   "execution_count": null,
   "metadata": {
    "colab": {
     "base_uri": "https://localhost:8080/",
     "height": 34
    },
    "colab_type": "code",
    "id": "1bzcFCB5atKQ",
    "outputId": "034434e4-e918-4a06-db9e-95322c029a1e"
   },
   "outputs": [
    {
     "data": {
      "text/plain": [
       "1"
      ]
     },
     "execution_count": 295,
     "metadata": {
      "tags": []
     },
     "output_type": "execute_result"
    }
   ],
   "source": [
    "testing_df.at[testing_df.index[testing_df.uris == current_track[\"uri\"]].values[0], \"energy_level\"]"
   ]
  },
  {
   "cell_type": "code",
   "execution_count": null,
   "metadata": {
    "colab": {},
    "colab_type": "code",
    "id": "YYVQCdeUahwp"
   },
   "outputs": [],
   "source": [
    "sp.next_track()"
   ]
  },
  {
   "cell_type": "code",
   "execution_count": null,
   "metadata": {
    "colab": {},
    "colab_type": "code",
    "id": "kMJptg1_cCLt"
   },
   "outputs": [],
   "source": []
  },
  {
   "cell_type": "markdown",
   "metadata": {
    "colab_type": "text",
    "id": "eNaW3TSRgj6j"
   },
   "source": [
    "#### write out data"
   ]
  },
  {
   "cell_type": "code",
   "execution_count": null,
   "metadata": {
    "colab": {},
    "colab_type": "code",
    "id": "fHMfNQKoglwB"
   },
   "outputs": [],
   "source": [
    "testing_df.to_csv(\"testing_df.csv\")\n",
    "files.download('testing_df.csv')"
   ]
  },
  {
   "cell_type": "code",
   "execution_count": null,
   "metadata": {
    "colab": {},
    "colab_type": "code",
    "id": "kgGC3Yijh-QT"
   },
   "outputs": [],
   "source": []
  }
 ],
 "metadata": {
  "colab": {
   "authorship_tag": "ABX9TyOpiNvd+0MpNBXqocclnh1t",
   "collapsed_sections": [
    "ApKRWB-5QzLj"
   ],
   "name": "tracks-by-energy-level.ipynb",
   "provenance": []
  },
  "kernelspec": {
   "display_name": "Python 3",
   "language": "python",
   "name": "python3"
  },
  "language_info": {
   "codemirror_mode": {
    "name": "ipython",
    "version": 3
   },
   "file_extension": ".py",
   "mimetype": "text/x-python",
   "name": "python",
   "nbconvert_exporter": "python",
   "pygments_lexer": "ipython3",
   "version": "3.7.6"
  }
 },
 "nbformat": 4,
 "nbformat_minor": 4
}
